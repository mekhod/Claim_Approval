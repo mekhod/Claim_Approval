{
 "cells": [
  {
   "cell_type": "code",
   "execution_count": 1,
   "metadata": {},
   "outputs": [],
   "source": [
    "import pandas as pd\n",
    "import matplotlib.pyplot as plt\n",
    "import numpy as np"
   ]
  },
  {
   "cell_type": "markdown",
   "metadata": {},
   "source": [
    "## Claim Data"
   ]
  },
  {
   "cell_type": "code",
   "execution_count": 2,
   "metadata": {},
   "outputs": [],
   "source": [
    "list_amount = []\n",
    "for df in pd.read_csv(\"data/PGYR18_P011720/OP_DTL_GNRL_PGYR2018_P01172020.csv\",\n",
    "                      iterator=True, chunksize=1000):\n",
    "    list_amount.extend(list(df['Total_Amount_of_Payment_USDollars']))"
   ]
  },
  {
   "cell_type": "code",
   "execution_count": 14,
   "metadata": {},
   "outputs": [
    {
     "data": {
      "image/png": "[encoded data removed]",
      "text/plain": [
       "<Figure size 432x288 with 1 Axes>"
      ]
     },
     "metadata": {
      "needs_background": "light"
     },
     "output_type": "display_data"
    }
   ],
   "source": [
    "plt.hist(list_amount)\n",
    "plt.yscale('log')"
   ]
  },
  {
   "cell_type": "code",
   "execution_count": 4,
   "metadata": {},
   "outputs": [
    {
     "data": {
      "text/plain": [
       "array([], dtype=float64)"
      ]
     },
     "execution_count": 4,
     "metadata": {},
     "output_type": "execute_result"
    }
   ],
   "source": [
    "np.array(list_amount)[np.array(list_amount) == 0]"
   ]
  },
  {
   "cell_type": "code",
   "execution_count": 5,
   "metadata": {},
   "outputs": [
    {
     "data": {
      "text/plain": [
       "Index(['Change_Type', 'Covered_Recipient_Type', 'Teaching_Hospital_CCN',\n",
       "       'Teaching_Hospital_ID', 'Teaching_Hospital_Name',\n",
       "       'Physician_Profile_ID', 'Physician_First_Name', 'Physician_Middle_Name',\n",
       "       'Physician_Last_Name', 'Physician_Name_Suffix',\n",
       "       'Recipient_Primary_Business_Street_Address_Line1',\n",
       "       'Recipient_Primary_Business_Street_Address_Line2', 'Recipient_City',\n",
       "       'Recipient_State', 'Recipient_Zip_Code', 'Recipient_Country',\n",
       "       'Recipient_Province', 'Recipient_Postal_Code', 'Physician_Primary_Type',\n",
       "       'Physician_Specialty', 'Physician_License_State_code1',\n",
       "       'Physician_License_State_code2', 'Physician_License_State_code3',\n",
       "       'Physician_License_State_code4', 'Physician_License_State_code5',\n",
       "       'Submitting_Applicable_Manufacturer_or_Applicable_GPO_Name',\n",
       "       'Applicable_Manufacturer_or_Applicable_GPO_Making_Payment_ID',\n",
       "       'Applicable_Manufacturer_or_Applicable_GPO_Making_Payment_Name',\n",
       "       'Applicable_Manufacturer_or_Applicable_GPO_Making_Payment_State',\n",
       "       'Applicable_Manufacturer_or_Applicable_GPO_Making_Payment_Country',\n",
       "       'Total_Amount_of_Payment_USDollars', 'Date_of_Payment',\n",
       "       'Number_of_Payments_Included_in_Total_Amount',\n",
       "       'Form_of_Payment_or_Transfer_of_Value',\n",
       "       'Nature_of_Payment_or_Transfer_of_Value', 'City_of_Travel',\n",
       "       'State_of_Travel', 'Country_of_Travel', 'Physician_Ownership_Indicator',\n",
       "       'Third_Party_Payment_Recipient_Indicator',\n",
       "       'Name_of_Third_Party_Entity_Receiving_Payment_or_Transfer_of_Value',\n",
       "       'Charity_Indicator', 'Third_Party_Equals_Covered_Recipient_Indicator',\n",
       "       'Contextual_Information', 'Delay_in_Publication_Indicator', 'Record_ID',\n",
       "       'Dispute_Status_for_Publication', 'Related_Product_Indicator',\n",
       "       'Covered_or_Noncovered_Indicator_1',\n",
       "       'Indicate_Drug_or_Biological_or_Device_or_Medical_Supply_1',\n",
       "       'Product_Category_or_Therapeutic_Area_1',\n",
       "       'Name_of_Drug_or_Biological_or_Device_or_Medical_Supply_1',\n",
       "       'Associated_Drug_or_Biological_NDC_1',\n",
       "       'Covered_or_Noncovered_Indicator_2',\n",
       "       'Indicate_Drug_or_Biological_or_Device_or_Medical_Supply_2',\n",
       "       'Product_Category_or_Therapeutic_Area_2',\n",
       "       'Name_of_Drug_or_Biological_or_Device_or_Medical_Supply_2',\n",
       "       'Associated_Drug_or_Biological_NDC_2',\n",
       "       'Covered_or_Noncovered_Indicator_3',\n",
       "       'Indicate_Drug_or_Biological_or_Device_or_Medical_Supply_3',\n",
       "       'Product_Category_or_Therapeutic_Area_3',\n",
       "       'Name_of_Drug_or_Biological_or_Device_or_Medical_Supply_3',\n",
       "       'Associated_Drug_or_Biological_NDC_3',\n",
       "       'Covered_or_Noncovered_Indicator_4',\n",
       "       'Indicate_Drug_or_Biological_or_Device_or_Medical_Supply_4',\n",
       "       'Product_Category_or_Therapeutic_Area_4',\n",
       "       'Name_of_Drug_or_Biological_or_Device_or_Medical_Supply_4',\n",
       "       'Associated_Drug_or_Biological_NDC_4',\n",
       "       'Covered_or_Noncovered_Indicator_5',\n",
       "       'Indicate_Drug_or_Biological_or_Device_or_Medical_Supply_5',\n",
       "       'Product_Category_or_Therapeutic_Area_5',\n",
       "       'Name_of_Drug_or_Biological_or_Device_or_Medical_Supply_5',\n",
       "       'Associated_Drug_or_Biological_NDC_5', 'Program_Year',\n",
       "       'Payment_Publication_Date'],\n",
       "      dtype='object')"
      ]
     },
     "execution_count": 5,
     "metadata": {},
     "output_type": "execute_result"
    }
   ],
   "source": [
    "df.columns"
   ]
  },
  {
   "cell_type": "markdown",
   "metadata": {},
   "source": [
    "## Deleted Data"
   ]
  },
  {
   "cell_type": "code",
   "execution_count": 6,
   "metadata": {},
   "outputs": [],
   "source": [
    "df_deleted = pd.read_csv(\"data/PGYR18_P011720/OP_REMOVED_DELETED_PGYR2018_P01172020.csv\", nrows=1000)"
   ]
  },
  {
   "cell_type": "code",
   "execution_count": 7,
   "metadata": {},
   "outputs": [
    {
     "data": {
      "text/html": [
       "<div>\n",
       "<style scoped>\n",
       "    .dataframe tbody tr th:only-of-type {\n",
       "        vertical-align: middle;\n",
       "    }\n",
       "\n",
       "    .dataframe tbody tr th {\n",
       "        vertical-align: top;\n",
       "    }\n",
       "\n",
       "    .dataframe thead th {\n",
       "        text-align: right;\n",
       "    }\n",
       "</style>\n",
       "<table border=\"1\" class=\"dataframe\">\n",
       "  <thead>\n",
       "    <tr style=\"text-align: right;\">\n",
       "      <th></th>\n",
       "      <th>Change_Type</th>\n",
       "      <th>Program_Year</th>\n",
       "      <th>Payment_Type</th>\n",
       "      <th>Record_ID</th>\n",
       "    </tr>\n",
       "  </thead>\n",
       "  <tbody>\n",
       "    <tr>\n",
       "      <th>0</th>\n",
       "      <td>DELETED</td>\n",
       "      <td>2018</td>\n",
       "      <td>General</td>\n",
       "      <td>524616163</td>\n",
       "    </tr>\n",
       "    <tr>\n",
       "      <th>1</th>\n",
       "      <td>DELETED</td>\n",
       "      <td>2018</td>\n",
       "      <td>General</td>\n",
       "      <td>524616165</td>\n",
       "    </tr>\n",
       "    <tr>\n",
       "      <th>2</th>\n",
       "      <td>DELETED</td>\n",
       "      <td>2018</td>\n",
       "      <td>General</td>\n",
       "      <td>524616167</td>\n",
       "    </tr>\n",
       "    <tr>\n",
       "      <th>3</th>\n",
       "      <td>DELETED</td>\n",
       "      <td>2018</td>\n",
       "      <td>General</td>\n",
       "      <td>527179005</td>\n",
       "    </tr>\n",
       "    <tr>\n",
       "      <th>4</th>\n",
       "      <td>DELETED</td>\n",
       "      <td>2018</td>\n",
       "      <td>General</td>\n",
       "      <td>527179007</td>\n",
       "    </tr>\n",
       "  </tbody>\n",
       "</table>\n",
       "</div>"
      ],
      "text/plain": [
       "  Change_Type  Program_Year Payment_Type  Record_ID\n",
       "0     DELETED          2018      General  524616163\n",
       "1     DELETED          2018      General  524616165\n",
       "2     DELETED          2018      General  524616167\n",
       "3     DELETED          2018      General  527179005\n",
       "4     DELETED          2018      General  527179007"
      ]
     },
     "execution_count": 7,
     "metadata": {},
     "output_type": "execute_result"
    }
   ],
   "source": [
    "df_deleted.head()"
   ]
  },
  {
   "cell_type": "code",
   "execution_count": 8,
   "metadata": {},
   "outputs": [
    {
     "data": {
      "text/plain": [
       "array(['DELETED'], dtype=object)"
      ]
     },
     "execution_count": 8,
     "metadata": {},
     "output_type": "execute_result"
    }
   ],
   "source": [
    "df_deleted.Change_Type.unique()"
   ]
  },
  {
   "cell_type": "code",
   "execution_count": 9,
   "metadata": {},
   "outputs": [],
   "source": [
    "list_change_type = []\n",
    "for df_2 in pd.read_csv(\"data/PGYR18_P011720/OP_REMOVED_DELETED_PGYR2018_P01172020.csv\",\n",
    "                      iterator=True, chunksize=1000):\n",
    "    list_change_type.extend(list(df_2['Change_Type']))"
   ]
  },
  {
   "cell_type": "code",
   "execution_count": 10,
   "metadata": {},
   "outputs": [
    {
     "data": {
      "text/plain": [
       "{'DELETED', 'REMOVED'}"
      ]
     },
     "execution_count": 10,
     "metadata": {},
     "output_type": "execute_result"
    }
   ],
   "source": [
    "set(list_change_type)"
   ]
  },
  {
   "cell_type": "code",
   "execution_count": 11,
   "metadata": {},
   "outputs": [],
   "source": [
    "list_payment_type = []\n",
    "for df_2 in pd.read_csv(\"data/PGYR18_P011720/OP_REMOVED_DELETED_PGYR2018_P01172020.csv\",\n",
    "                      iterator=True, chunksize=1000):\n",
    "    list_payment_type.extend(list(df_2['Payment_Type']))"
   ]
  },
  {
   "cell_type": "code",
   "execution_count": 12,
   "metadata": {},
   "outputs": [
    {
     "data": {
      "text/plain": [
       "{'General', 'Ownership/Investment', 'Research'}"
      ]
     },
     "execution_count": 12,
     "metadata": {},
     "output_type": "execute_result"
    }
   ],
   "source": [
    "set(list_payment_type)"
   ]
  },
  {
   "cell_type": "code",
   "execution_count": null,
   "metadata": {},
   "outputs": [],
   "source": []
  }
 ],
 "metadata": {
  "kernelspec": {
   "display_name": "Python 3",
   "language": "python",
   "name": "python3"
  },
  "language_info": {
   "codemirror_mode": {
    "name": "ipython",
    "version": 3
   },
   "file_extension": ".py",
   "mimetype": "text/x-python",
   "name": "python",
   "nbconvert_exporter": "python",
   "pygments_lexer": "ipython3",
   "version": "3.6.9"
  }
 },
 "nbformat": 4,
 "nbformat_minor": 4
}
